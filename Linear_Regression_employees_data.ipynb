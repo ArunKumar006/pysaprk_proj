{
 "cells": [
  {
   "cell_type": "markdown",
   "metadata": {
    "application/vnd.databricks.v1+cell": {
     "cellMetadata": {
      "byteLimit": 2048000,
      "rowLimit": 10000
     },
     "inputWidgets": {},
     "nuid": "99192624-687f-449a-afb1-31eab92a6711",
     "showTitle": false,
     "title": ""
    }
   },
   "source": [
    "# Linear Regression Code Along"
   ]
  },
  {
   "cell_type": "markdown",
   "metadata": {
    "application/vnd.databricks.v1+cell": {
     "cellMetadata": {
      "byteLimit": 2048000,
      "rowLimit": 10000
     },
     "inputWidgets": {},
     "nuid": "1ba575b3-9c86-4d83-8e44-e2ac27ee4477",
     "showTitle": false,
     "title": ""
    }
   },
   "source": [
    "This notebook is the reference for the video lecture on the Linear Regression Code Along. Basically what we do here is examine a dataset with Ecommerce Customer Data for a company's website and mobile app. Then we want to see if we can build a regression model that will predict the customer's yearly spend on the company's product."
   ]
  },
  {
   "cell_type": "markdown",
   "metadata": {
    "application/vnd.databricks.v1+cell": {
     "cellMetadata": {
      "byteLimit": 2048000,
      "rowLimit": 10000
     },
     "inputWidgets": {},
     "nuid": "c13b830e-3684-4997-b08b-78e296a2f520",
     "showTitle": false,
     "title": ""
    }
   },
   "source": [
    "First thing to do is start a Spark Session"
   ]
  },
  {
   "cell_type": "code",
   "execution_count": 0,
   "metadata": {
    "application/vnd.databricks.v1+cell": {
     "cellMetadata": {
      "byteLimit": 2048000,
      "rowLimit": 10000
     },
     "inputWidgets": {},
     "nuid": "53fed752-90cf-402d-ad8a-4a59f4093933",
     "showTitle": false,
     "title": ""
    },
    "collapsed": true
   },
   "outputs": [],
   "source": [
    "from pyspark.sql import SparkSession\n",
    "spark = SparkSession.builder.appName('lr_example').getOrCreate()"
   ]
  },
  {
   "cell_type": "code",
   "execution_count": 0,
   "metadata": {
    "application/vnd.databricks.v1+cell": {
     "cellMetadata": {
      "byteLimit": 2048000,
      "rowLimit": 10000
     },
     "inputWidgets": {},
     "nuid": "d55ad461-be01-4aa3-a44a-59b0ff103cbd",
     "showTitle": false,
     "title": ""
    },
    "collapsed": true
   },
   "outputs": [],
   "source": [
    "from pyspark.ml.regression import LinearRegression"
   ]
  },
  {
   "cell_type": "code",
   "execution_count": 0,
   "metadata": {
    "application/vnd.databricks.v1+cell": {
     "cellMetadata": {
      "byteLimit": 2048000,
      "rowLimit": 10000
     },
     "inputWidgets": {},
     "nuid": "541f4fb9-ddf8-4176-a930-f443f2bb55bb",
     "showTitle": false,
     "title": ""
    },
    "collapsed": true
   },
   "outputs": [],
   "source": [
    "# Use Spark to read in the Ecommerce Customers csv file.\n",
    "data = spark.read.format(\"csv\").option(\"header\", \"true\").load(\"dbfs:/FileStore/shared_uploads/arunyuvi0206@gmail.com/Ecommerce_Customers-3.csv\")"
   ]
  },
  {
   "cell_type": "code",
   "execution_count": 0,
   "metadata": {
    "application/vnd.databricks.v1+cell": {
     "cellMetadata": {
      "byteLimit": 2048000,
      "rowLimit": 10000
     },
     "inputWidgets": {},
     "nuid": "0f2ce0ae-7c59-4ec9-96ce-835c27d57e88",
     "showTitle": false,
     "title": ""
    },
    "collapsed": false
   },
   "outputs": [
    {
     "output_type": "stream",
     "name": "stdout",
     "output_type": "stream",
     "text": [
      "root\n |-- Email: string (nullable = true)\n |-- Address: string (nullable = true)\n |-- Avatar: string (nullable = true)\n |-- Avg Session Length: string (nullable = true)\n |-- Time on App: string (nullable = true)\n |-- Time on Website: string (nullable = true)\n |-- Length of Membership: string (nullable = true)\n |-- Yearly Amount Spent: string (nullable = true)\n\n"
     ]
    }
   ],
   "source": [
    "# Print the Schema of the DataFrame\n",
    "data.printSchema()"
   ]
  },
  {
   "cell_type": "code",
   "execution_count": 0,
   "metadata": {
    "application/vnd.databricks.v1+cell": {
     "cellMetadata": {
      "byteLimit": 2048000,
      "rowLimit": 10000
     },
     "inputWidgets": {},
     "nuid": "e05daab0-4f50-4b1f-940f-85e289ed31bb",
     "showTitle": false,
     "title": ""
    },
    "collapsed": false
   },
   "outputs": [
    {
     "output_type": "stream",
     "name": "stdout",
     "output_type": "stream",
     "text": [
      "+--------------------+--------------------+----------------+------------------+------------------+------------------+--------------------+-------------------+\n|               Email|             Address|          Avatar|Avg Session Length|       Time on App|   Time on Website|Length of Membership|Yearly Amount Spent|\n+--------------------+--------------------+----------------+------------------+------------------+------------------+--------------------+-------------------+\n|mstephenson@ferna...|835 Frank TunnelW...|          Violet| 34.49726772511229| 12.65565114916675| 39.57766801952616|  4.0826206329529615|  587.9510539684005|\n|   hduke@hotmail.com|4547 Archer Commo...|       DarkGreen| 31.92627202636016|11.109460728682564|37.268958868297744|    2.66403418213262|  392.2049334443264|\n|    pallen@yahoo.com|24645 Valerie Uni...|          Bisque|33.000914755642675|11.330278057777512|37.110597442120856|   4.104543202376424| 487.54750486747207|\n|riverarebecca@gma...|1414 David Throug...|     SaddleBrown| 34.30555662975554|13.717513665142507| 36.72128267790313|   3.120178782748092|  581.8523440352177|\n|mstephens@davidso...|14023 Rodriguez P...|MediumAquaMarine| 33.33067252364639|12.795188551078114| 37.53665330059473|   4.446308318351434|  599.4060920457634|\n|alvareznancy@luca...|645 Martha Park A...|     FloralWhite|33.871037879341976|12.026925339755056| 34.47687762925054|   5.493507201364199|   637.102447915074|\n|katherine20@yahoo...|68388 Reyes Light...|   DarkSlateBlue| 32.02159550138701|11.366348309710526| 36.68377615286961|   4.685017246570912|  521.5721747578274|\n|  awatkins@yahoo.com|Unit 6538 Box 898...|            Aqua|32.739142938380326| 12.35195897300293| 37.37335885854755|  4.4342734348999375|  549.9041461052942|\n|vchurch@walter-ma...|860 Lee KeyWest D...|          Salmon| 33.98777289568564|13.386235275676436|37.534497341555735|  3.2734335777477144|  570.2004089636196|\n|    bonnie69@lin.biz|PSC 2734, Box 525...|           Brown|31.936548618448917|11.814128294972196| 37.14516822352819|   3.202806071553459|  427.1993848953282|\n|andrew06@peterson...|26104 Alexander G...|          Tomato|33.992572774953736|13.338975447662113| 37.22580613162114|   2.482607770510596|  492.6060127179966|\n|ryanwerner@freema...|Unit 2413 Box 034...|          Tomato| 33.87936082480498|11.584782999535266| 37.08792607098381|    3.71320920294043|  522.3374046069357|\n|   knelson@gmail.com|6705 Miller Orcha...|       RoyalBlue|29.532428967057943|10.961298400154098| 37.42021557502538|   4.046423164299585|  408.6403510726275|\n|wrightpeter@yahoo...|05302 Dunlap Ferr...|          Bisque| 33.19033404372265|12.959226091609382|36.144666700041924|   3.918541839158999|  573.4158673313865|\n|taylormason@gmail...|7773 Powell Sprin...|        DarkBlue|32.387975853153876|13.148725692056516| 36.61995708279922|   2.494543646659249|  470.4527333009554|\n| jstark@anderson.com|49558 Ramirez Roa...|            Peru|30.737720372628182|12.636606052000127|36.213763093698624|  3.3578468423262944|  461.7807421962299|\n| wjennings@gmail.com|6362 Wilson Mount...|      PowderBlue| 32.12538689728784|11.733861690857394|  34.8940927514398|  3.1361327164897803| 457.84769594494855|\n|rebecca45@hale-ba...|8982 Burton RowWi...|       OliveDrab|32.338899323067196|12.013194694014402| 38.38513659413844|   2.420806160901484| 407.70454754954415|\n|alejandro75@hotma...|64475 Andre Club ...|            Cyan|32.187812045932155|  14.7153875441565| 38.24411459434352|   1.516575580831944|  452.3156754800354|\n|samuel46@love-wes...|544 Alexander Hei...|   LightSeaGreen| 32.61785606282345|13.989592555825254|37.190503800397956|   4.064548550437977|   605.061038804892|\n+--------------------+--------------------+----------------+------------------+------------------+------------------+--------------------+-------------------+\nonly showing top 20 rows\n\n"
     ]
    }
   ],
   "source": [
    "data.show()"
   ]
  },
  {
   "cell_type": "code",
   "execution_count": 0,
   "metadata": {
    "application/vnd.databricks.v1+cell": {
     "cellMetadata": {
      "byteLimit": 2048000,
      "rowLimit": 10000
     },
     "inputWidgets": {},
     "nuid": "fd1f63a8-9bb8-4327-8c05-7de6877ae022",
     "showTitle": false,
     "title": ""
    },
    "collapsed": false
   },
   "outputs": [
    {
     "output_type": "stream",
     "name": "stdout",
     "output_type": "stream",
     "text": [
      "Out[43]: Row(Email='mstephenson@fernandez.com', Address='835 Frank TunnelWrightmouth, MI 82180-9605', Avatar='Violet', Avg Session Length='34.49726772511229', Time on App='12.65565114916675', Time on Website='39.57766801952616', Length of Membership='4.0826206329529615', Yearly Amount Spent='587.9510539684005')"
     ]
    }
   ],
   "source": [
    "data.head()"
   ]
  },
  {
   "cell_type": "code",
   "execution_count": 0,
   "metadata": {
    "application/vnd.databricks.v1+cell": {
     "cellMetadata": {
      "byteLimit": 2048000,
      "rowLimit": 10000
     },
     "inputWidgets": {},
     "nuid": "4e9206f1-a28b-4f2d-a1a7-ce9131c45601",
     "showTitle": false,
     "title": ""
    },
    "collapsed": false
   },
   "outputs": [
    {
     "output_type": "stream",
     "name": "stdout",
     "output_type": "stream",
     "text": [
      "mstephenson@fernandez.com\n835 Frank TunnelWrightmouth, MI 82180-9605\nViolet\n34.49726772511229\n12.65565114916675\n39.57766801952616\n4.0826206329529615\n587.9510539684005\n"
     ]
    }
   ],
   "source": [
    "for item in data.head():\n",
    "    print(item)"
   ]
  },
  {
   "cell_type": "markdown",
   "metadata": {
    "application/vnd.databricks.v1+cell": {
     "cellMetadata": {
      "byteLimit": 2048000,
      "rowLimit": 10000
     },
     "inputWidgets": {},
     "nuid": "cb99c3c3-8a69-47ee-8f14-4748578ec4f3",
     "showTitle": false,
     "title": ""
    }
   },
   "source": [
    "## Setting Up DataFrame for Machine Learning "
   ]
  },
  {
   "cell_type": "code",
   "execution_count": 0,
   "metadata": {
    "application/vnd.databricks.v1+cell": {
     "cellMetadata": {
      "byteLimit": 2048000,
      "rowLimit": 10000
     },
     "inputWidgets": {},
     "nuid": "6f14c490-43c6-402a-940d-a12977977855",
     "showTitle": false,
     "title": ""
    },
    "collapsed": true
   },
   "outputs": [],
   "source": [
    "# A few things we need to do before Spark can accept the data!\n",
    "# It needs to be in the form of two columns\n",
    "# (\"label\",\"features\")\n",
    "\n",
    "# Import VectorAssembler and Vectors\n",
    "from pyspark.ml.linalg import Vectors\n",
    "from pyspark.ml.feature import VectorAssembler"
   ]
  },
  {
   "cell_type": "code",
   "execution_count": 0,
   "metadata": {
    "application/vnd.databricks.v1+cell": {
     "cellMetadata": {
      "byteLimit": 2048000,
      "rowLimit": 10000
     },
     "inputWidgets": {},
     "nuid": "306a84fa-403b-4b2b-8788-cde1352553d7",
     "showTitle": false,
     "title": ""
    },
    "collapsed": false
   },
   "outputs": [
    {
     "output_type": "stream",
     "name": "stdout",
     "output_type": "stream",
     "text": [
      "Out[46]: ['Email',\n 'Address',\n 'Avatar',\n 'Avg Session Length',\n 'Time on App',\n 'Time on Website',\n 'Length of Membership',\n 'Yearly Amount Spent']"
     ]
    }
   ],
   "source": [
    "data.columns"
   ]
  },
  {
   "cell_type": "code",
   "execution_count": 0,
   "metadata": {
    "application/vnd.databricks.v1+cell": {
     "cellMetadata": {
      "byteLimit": 2048000,
      "rowLimit": 10000
     },
     "inputWidgets": {},
     "nuid": "8d7d6e07-a9eb-479c-a640-a2c7bd21d800",
     "showTitle": false,
     "title": ""
    },
    "collapsed": true
   },
   "outputs": [],
   "source": [
    "assembler = VectorAssembler(\n",
    "    inputCols=[\"Avg Session Length\", \"Time on App\", \n",
    "               \"Time on Website\",'Length of Membership'],\n",
    "    outputCol=\"features\")"
   ]
  },
  {
   "cell_type": "code",
   "execution_count": 0,
   "metadata": {
    "application/vnd.databricks.v1+cell": {
     "cellMetadata": {
      "byteLimit": 2048000,
      "rowLimit": 10000
     },
     "inputWidgets": {},
     "nuid": "208fe365-b9f7-4235-a217-7b5e9808e192",
     "showTitle": false,
     "title": ""
    }
   },
   "outputs": [],
   "source": [
    "data = data.withColumn(\"Avg Session Length\", data[\"Avg Session Length\"].cast(\"float\"))\n",
    "data = data.withColumn(\"Time on App\", data[\"Time on App\"].cast(\"float\"))\n",
    "data = data.withColumn(\"Time on Website\", data[\"Time on Website\"].cast(\"float\"))\n",
    "data = data.withColumn(\"Length of Membership\", data[\"Length of Membership\"].cast(\"float\"))\n",
    "#converting Yearly Amount Spent to float\n",
    "data = data.withColumn(\"Yearly Amount Spent\", data[\"Yearly Amount Spent\"].cast(\"float\"))\n",
    "\n"
   ]
  },
  {
   "cell_type": "code",
   "execution_count": 0,
   "metadata": {
    "application/vnd.databricks.v1+cell": {
     "cellMetadata": {
      "byteLimit": 2048000,
      "rowLimit": 10000
     },
     "inputWidgets": {},
     "nuid": "6084f18a-266a-4031-8433-4ea6bff6b8ce",
     "showTitle": false,
     "title": ""
    },
    "collapsed": false
   },
   "outputs": [],
   "source": [
    "output = assembler.transform(data)"
   ]
  },
  {
   "cell_type": "code",
   "execution_count": 0,
   "metadata": {
    "application/vnd.databricks.v1+cell": {
     "cellMetadata": {
      "byteLimit": 2048000,
      "rowLimit": 10000
     },
     "inputWidgets": {},
     "nuid": "f484e997-18e9-45af-943e-6a4394ea8740",
     "showTitle": false,
     "title": ""
    },
    "collapsed": false
   },
   "outputs": [
    {
     "output_type": "stream",
     "name": "stdout",
     "output_type": "stream",
     "text": [
      "+--------------------+\n|            features|\n+--------------------+\n|[34.4972686767578...|\n|[31.9262714385986...|\n|[33.0009155273437...|\n|[34.3055572509765...|\n|[33.3306732177734...|\n|[33.8710365295410...|\n|[32.0215950012207...|\n|[32.7391433715820...|\n|[33.9877738952636...|\n|[31.9365482330322...|\n|[33.9925727844238...|\n|[33.8793601989746...|\n|[29.5324287414550...|\n|[33.1903343200683...|\n|[32.3879776000976...|\n|[30.7377204895019...|\n|[32.1253852844238...|\n|[32.3388977050781...|\n|[32.1878128051757...|\n|[32.6178550720214...|\n+--------------------+\nonly showing top 20 rows\n\n"
     ]
    }
   ],
   "source": [
    "output.select(\"features\").show()"
   ]
  },
  {
   "cell_type": "code",
   "execution_count": 0,
   "metadata": {
    "application/vnd.databricks.v1+cell": {
     "cellMetadata": {
      "byteLimit": 2048000,
      "rowLimit": 10000
     },
     "inputWidgets": {},
     "nuid": "fb137aa7-4b50-4cc1-b75b-4be6222a2def",
     "showTitle": false,
     "title": ""
    },
    "collapsed": false
   },
   "outputs": [
    {
     "output_type": "stream",
     "name": "stdout",
     "output_type": "stream",
     "text": [
      "+--------------------+--------------------+----------------+------------------+-----------+---------------+--------------------+-------------------+--------------------+\n|               Email|             Address|          Avatar|Avg Session Length|Time on App|Time on Website|Length of Membership|Yearly Amount Spent|            features|\n+--------------------+--------------------+----------------+------------------+-----------+---------------+--------------------+-------------------+--------------------+\n|mstephenson@ferna...|835 Frank TunnelW...|          Violet|          34.49727|  12.655651|      39.577667|           4.0826206|          587.95105|[34.4972686767578...|\n|   hduke@hotmail.com|4547 Archer Commo...|       DarkGreen|         31.926271|  11.109461|       37.26896|           2.6640341|          392.20493|[31.9262714385986...|\n|    pallen@yahoo.com|24645 Valerie Uni...|          Bisque|         33.000916|  11.330278|      37.110596|            4.104543|          487.54752|[33.0009155273437...|\n|riverarebecca@gma...|1414 David Throug...|     SaddleBrown|         34.305557|  13.717514|      36.721283|           3.1201787|          581.85236|[34.3055572509765...|\n|mstephens@davidso...|14023 Rodriguez P...|MediumAquaMarine|         33.330673|  12.795189|       37.53665|            4.446308|          599.40607|[33.3306732177734...|\n|alvareznancy@luca...|645 Martha Park A...|     FloralWhite|         33.871037|  12.026925|       34.47688|           5.4935074|           637.1025|[33.8710365295410...|\n|katherine20@yahoo...|68388 Reyes Light...|   DarkSlateBlue|         32.021595|  11.366348|      36.683777|            4.685017|           521.5722|[32.0215950012207...|\n|  awatkins@yahoo.com|Unit 6538 Box 898...|            Aqua|         32.739143|  12.351959|       37.37336|           4.4342732|           549.9042|[32.7391433715820...|\n|vchurch@walter-ma...|860 Lee KeyWest D...|          Salmon|         33.987774|  13.386235|      37.534496|           3.2734337|          570.20044|[33.9877738952636...|\n|    bonnie69@lin.biz|PSC 2734, Box 525...|           Brown|         31.936548|  11.814128|       37.14517|            3.202806|          427.19937|[31.9365482330322...|\n|andrew06@peterson...|26104 Alexander G...|          Tomato|         33.992573|  13.338976|      37.225807|           2.4826078|          492.60602|[33.9925727844238...|\n|ryanwerner@freema...|Unit 2413 Box 034...|          Tomato|          33.87936|  11.584783|      37.087925|           3.7132092|           522.3374|[33.8793601989746...|\n|   knelson@gmail.com|6705 Miller Orcha...|       RoyalBlue|         29.532429|  10.961298|      37.420216|            4.046423|          408.64035|[29.5324287414550...|\n|wrightpeter@yahoo...|05302 Dunlap Ferr...|          Bisque|         33.190334|  12.959226|       36.14467|            3.918542|           573.4159|[33.1903343200683...|\n|taylormason@gmail...|7773 Powell Sprin...|        DarkBlue|         32.387978| 13.1487255|      36.619957|           2.4945436|          470.45273|[32.3879776000976...|\n| jstark@anderson.com|49558 Ramirez Roa...|            Peru|          30.73772|  12.636606|      36.213764|           3.3578467|          461.78073|[30.7377204895019...|\n| wjennings@gmail.com|6362 Wilson Mount...|      PowderBlue|         32.125385|  11.733862|      34.894093|           3.1361327|           457.8477|[32.1253852844238...|\n|rebecca45@hale-ba...|8982 Burton RowWi...|       OliveDrab|         32.338898|  12.013195|      38.385136|           2.4208062|          407.70456|[32.3388977050781...|\n|alejandro75@hotma...|64475 Andre Club ...|            Cyan|         32.187813|  14.715387|      38.244114|           1.5165756|          452.31567|[32.1878128051757...|\n|samuel46@love-wes...|544 Alexander Hei...|   LightSeaGreen|         32.617855|  13.989593|      37.190502|           4.0645485|          605.06104|[32.6178550720214...|\n+--------------------+--------------------+----------------+------------------+-----------+---------------+--------------------+-------------------+--------------------+\nonly showing top 20 rows\n\n"
     ]
    }
   ],
   "source": [
    "output.show()"
   ]
  },
  {
   "cell_type": "code",
   "execution_count": 0,
   "metadata": {
    "application/vnd.databricks.v1+cell": {
     "cellMetadata": {
      "byteLimit": 2048000,
      "rowLimit": 10000
     },
     "inputWidgets": {},
     "nuid": "a871e4ff-748d-42e2-b3d0-e0c549e34aba",
     "showTitle": false,
     "title": ""
    },
    "collapsed": true
   },
   "outputs": [],
   "source": [
    "final_data = output.select(\"features\",'Yearly Amount Spent')"
   ]
  },
  {
   "cell_type": "code",
   "execution_count": 0,
   "metadata": {
    "application/vnd.databricks.v1+cell": {
     "cellMetadata": {
      "byteLimit": 2048000,
      "rowLimit": 10000
     },
     "inputWidgets": {},
     "nuid": "8f00e468-e78a-412b-a7e3-22cf655c3dc2",
     "showTitle": false,
     "title": ""
    },
    "collapsed": true
   },
   "outputs": [],
   "source": [
    "train_data,test_data = final_data.randomSplit([0.7,0.3])"
   ]
  },
  {
   "cell_type": "code",
   "execution_count": 0,
   "metadata": {
    "application/vnd.databricks.v1+cell": {
     "cellMetadata": {
      "byteLimit": 2048000,
      "rowLimit": 10000
     },
     "inputWidgets": {},
     "nuid": "bd24c155-212e-4007-aa31-fa4763f81819",
     "showTitle": false,
     "title": ""
    },
    "collapsed": false
   },
   "outputs": [
    {
     "output_type": "stream",
     "name": "stdout",
     "output_type": "stream",
     "text": [
      "+-------+-------------------+\n|summary|Yearly Amount Spent|\n+-------+-------------------+\n|  count|                331|\n|   mean|  498.6559886183263|\n| stddev|  79.99649311217311|\n|    min|           256.6706|\n|    max|          744.22186|\n+-------+-------------------+\n\n"
     ]
    }
   ],
   "source": [
    "train_data.describe().show()"
   ]
  },
  {
   "cell_type": "code",
   "execution_count": 0,
   "metadata": {
    "application/vnd.databricks.v1+cell": {
     "cellMetadata": {
      "byteLimit": 2048000,
      "rowLimit": 10000
     },
     "inputWidgets": {},
     "nuid": "8ce2c1b8-4bac-4608-b9ce-b99fb56b6e7a",
     "showTitle": false,
     "title": ""
    },
    "collapsed": false
   },
   "outputs": [
    {
     "output_type": "stream",
     "name": "stdout",
     "output_type": "stream",
     "text": [
      "+-------+-------------------+\n|summary|Yearly Amount Spent|\n+-------+-------------------+\n|  count|                169|\n|   mean|  500.6028807149131|\n| stddev|     78.18200501426|\n|    min|          266.08633|\n|    max|          765.51843|\n+-------+-------------------+\n\n"
     ]
    }
   ],
   "source": [
    "test_data.describe().show()"
   ]
  },
  {
   "cell_type": "code",
   "execution_count": 0,
   "metadata": {
    "application/vnd.databricks.v1+cell": {
     "cellMetadata": {
      "byteLimit": 2048000,
      "rowLimit": 10000
     },
     "inputWidgets": {},
     "nuid": "19acb3cb-f7a1-48a9-8570-f4631be78a2f",
     "showTitle": false,
     "title": ""
    },
    "collapsed": false
   },
   "outputs": [],
   "source": [
    "# Create a Linear Regression Model object\n",
    "lr = LinearRegression(labelCol='Yearly Amount Spent')"
   ]
  },
  {
   "cell_type": "code",
   "execution_count": 0,
   "metadata": {
    "application/vnd.databricks.v1+cell": {
     "cellMetadata": {
      "byteLimit": 2048000,
      "rowLimit": 10000
     },
     "inputWidgets": {},
     "nuid": "baba736d-9f0d-428e-8604-39a98cb0e4bf",
     "showTitle": false,
     "title": ""
    },
    "collapsed": false
   },
   "outputs": [],
   "source": [
    "# Fit the model to the data and call this model lrModel\n",
    "lrModel = lr.fit(train_data,)"
   ]
  },
  {
   "cell_type": "code",
   "execution_count": 0,
   "metadata": {
    "application/vnd.databricks.v1+cell": {
     "cellMetadata": {
      "byteLimit": 2048000,
      "rowLimit": 10000
     },
     "inputWidgets": {},
     "nuid": "96edc2ad-e1b1-4bf3-9fdf-decffba38eee",
     "showTitle": false,
     "title": ""
    },
    "collapsed": false
   },
   "outputs": [
    {
     "output_type": "stream",
     "name": "stdout",
     "output_type": "stream",
     "text": [
      "Coefficients: [24.965775690432555,38.35111896972482,0.0892767832178607,61.686539190833216] Intercept: -1009.6551640365732\n"
     ]
    }
   ],
   "source": [
    "# Print the coefficients and intercept for linear regression\n",
    "print(\"Coefficients: {} Intercept: {}\".format(lrModel.coefficients,lrModel.intercept))"
   ]
  },
  {
   "cell_type": "code",
   "execution_count": 0,
   "metadata": {
    "application/vnd.databricks.v1+cell": {
     "cellMetadata": {
      "byteLimit": 2048000,
      "rowLimit": 10000
     },
     "inputWidgets": {},
     "nuid": "b804bace-2354-40d2-8acc-578237ca2b66",
     "showTitle": false,
     "title": ""
    },
    "collapsed": false
   },
   "outputs": [],
   "source": [
    "test_results = lrModel.evaluate(test_data)"
   ]
  },
  {
   "cell_type": "code",
   "execution_count": 0,
   "metadata": {
    "application/vnd.databricks.v1+cell": {
     "cellMetadata": {
      "byteLimit": 2048000,
      "rowLimit": 10000
     },
     "inputWidgets": {},
     "nuid": "e0270811-6e18-4e8f-9418-a824ddec1832",
     "showTitle": false,
     "title": ""
    },
    "collapsed": false
   },
   "outputs": [
    {
     "output_type": "stream",
     "name": "stdout",
     "output_type": "stream",
     "text": [
      "+-------------------+\n|          residuals|\n+-------------------+\n|-18.324100640499523|\n|-23.191743232620297|\n| -8.196278349790532|\n| 18.204201160931348|\n|  3.008844331281466|\n| 2.4042996409535817|\n| -4.543428993398379|\n|  2.423362272814188|\n| -5.347231144446937|\n| -4.968178715333238|\n| -6.756633563790388|\n|-2.7680550511737465|\n| 16.246690499690317|\n|  -4.81881865858611|\n| -2.122864132210566|\n| -27.19444779351909|\n| -7.571860967156113|\n| -6.849286562411066|\n| 0.5629351656847348|\n| -4.947046952060532|\n+-------------------+\nonly showing top 20 rows\n\n"
     ]
    }
   ],
   "source": [
    "# Interesting results....\n",
    "test_results.residuals.show()"
   ]
  },
  {
   "cell_type": "code",
   "execution_count": 0,
   "metadata": {
    "application/vnd.databricks.v1+cell": {
     "cellMetadata": {
      "byteLimit": 2048000,
      "rowLimit": 10000
     },
     "inputWidgets": {},
     "nuid": "1709176f-32fe-436f-8009-4910c8cc7c4a",
     "showTitle": false,
     "title": ""
    },
    "collapsed": true
   },
   "outputs": [],
   "source": [
    "unlabeled_data = test_data.select('features')"
   ]
  },
  {
   "cell_type": "code",
   "execution_count": 0,
   "metadata": {
    "application/vnd.databricks.v1+cell": {
     "cellMetadata": {
      "byteLimit": 2048000,
      "rowLimit": 10000
     },
     "inputWidgets": {},
     "nuid": "f108bc86-ad84-464c-845f-f8b9036518f0",
     "showTitle": false,
     "title": ""
    },
    "collapsed": false
   },
   "outputs": [],
   "source": [
    "predictions = lrModel.transform(unlabeled_data)"
   ]
  },
  {
   "cell_type": "code",
   "execution_count": 0,
   "metadata": {
    "application/vnd.databricks.v1+cell": {
     "cellMetadata": {
      "byteLimit": 2048000,
      "rowLimit": 10000
     },
     "inputWidgets": {},
     "nuid": "307ee450-6b95-46b5-851e-26e39da78ac3",
     "showTitle": false,
     "title": ""
    },
    "collapsed": false
   },
   "outputs": [
    {
     "output_type": "stream",
     "name": "stdout",
     "output_type": "stream",
     "text": [
      "+--------------------+------------------+\n|            features|        prediction|\n+--------------------+------------------+\n|[30.8162002563476...|284.41043486901515|\n|[31.1239738464355...| 510.1387952345734|\n|[31.1280899047851...| 565.4489638966655|\n|[31.3123493194580...|445.38722950313115|\n|[31.3584766387939...| 492.1671200241873|\n|[31.3662128448486...|428.18459806412454|\n|[31.4252262115478...| 535.3101526262109|\n|[31.4459724426269...| 482.4535908521858|\n|[31.5147380828857...|495.15973114444694|\n|[31.5171222686767...| 280.8866052290051|\n|[31.5257530212402...|450.72227077082164|\n|[31.5761318206787...| 543.9946175511737|\n|[31.6098403930664...| 428.2988722444503|\n|[31.6253604888916...| 381.1557327210861|\n|[31.6610488891601...|418.48123205213244|\n|[31.6739158630371...|502.91951493219096|\n|[31.7207698822021...| 546.3468243460624|\n|[31.7242031097412...| 510.2371649803798|\n|[31.7366352081298...|496.37050599642464|\n|[31.7656192779541...|501.50112410049803|\n+--------------------+------------------+\nonly showing top 20 rows\n\n"
     ]
    }
   ],
   "source": [
    "predictions.show()"
   ]
  },
  {
   "cell_type": "code",
   "execution_count": 0,
   "metadata": {
    "application/vnd.databricks.v1+cell": {
     "cellMetadata": {
      "byteLimit": 2048000,
      "rowLimit": 10000
     },
     "inputWidgets": {},
     "nuid": "f80602ac-8f81-43c0-844d-d96efe1f9a1a",
     "showTitle": false,
     "title": ""
    },
    "collapsed": false
   },
   "outputs": [
    {
     "output_type": "stream",
     "name": "stdout",
     "output_type": "stream",
     "text": [
      "RMSE: 10.375876305167704\nMSE: 107.6588091001406\n"
     ]
    }
   ],
   "source": [
    "print(\"RMSE: {}\".format(test_results.rootMeanSquaredError))\n",
    "print(\"MSE: {}\".format(test_results.meanSquaredError))"
   ]
  },
  {
   "cell_type": "markdown",
   "metadata": {
    "application/vnd.databricks.v1+cell": {
     "cellMetadata": {
      "byteLimit": 2048000,
      "rowLimit": 10000
     },
     "inputWidgets": {},
     "nuid": "1ae5fecf-76ea-4136-a5dd-161145f2a880",
     "showTitle": false,
     "title": ""
    }
   },
   "source": [
    "Excellent results! Let's see how you handle some more realistically modeled data in the Consulting Project!"
   ]
  }
 ],
 "metadata": {
  "anaconda-cloud": {},
  "application/vnd.databricks.v1+notebook": {
   "dashboards": [],
   "language": "python",
   "notebookMetadata": {
    "pythonIndentUnit": 4
   },
   "notebookName": "Linear_Regression_Code_Along",
   "widgets": {}
  },
  "kernelspec": {
   "display_name": "Python [conda root]",
   "language": "python",
   "name": "conda-root-py"
  },
  "language_info": {
   "codemirror_mode": {
    "name": "ipython",
    "version": 3
   },
   "file_extension": ".py",
   "mimetype": "text/x-python",
   "name": "python",
   "nbconvert_exporter": "python",
   "pygments_lexer": "ipython3",
   "version": "3.5.3"
  }
 },
 "nbformat": 4,
 "nbformat_minor": 0
}
